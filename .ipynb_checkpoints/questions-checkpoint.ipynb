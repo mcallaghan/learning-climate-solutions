{
 "cells": [
  {
   "cell_type": "code",
   "execution_count": 19,
   "metadata": {
    "collapsed": true
   },
   "outputs": [],
   "source": [
    "import django, os, sys, time, resource, re, gc, shutil, string, nltk\n",
    "from django.utils import timezone\n",
    "from nltk import ngrams\n",
    "import numpy as np\n",
    "import subprocess\n",
    "\n",
    "sys.path.append('/home/galm/software/tmv/BasicBrowser/')\n",
    "\n",
    "os.environ.setdefault(\"DJANGO_SETTINGS_MODULE\", \"BasicBrowser.settings\")\n",
    "django.setup()\n",
    "\n",
    "from scoping.models import *"
   ]
  },
  {
   "cell_type": "code",
   "execution_count": 6,
   "metadata": {
    "collapsed": false
   },
   "outputs": [],
   "source": [
    "ar1 = Doc.objects.filter(query=365,PY__gt=1985,PY__lte=1990)\n",
    "ar2 = Doc.objects.filter(query=365,PY__gt=1990,PY__lte=1995)\n",
    "ar3 = Doc.objects.filter(query=365,PY__gt=1995,PY__lte=2000)\n",
    "ar4 = Doc.objects.filter(query=365,PY__gt=2000,PY__lte=2007)\n",
    "ar5 = Doc.objects.filter(query=365,PY__gt=2007,PY__lte=2013)"
   ]
  },
  {
   "cell_type": "code",
   "execution_count": 7,
   "metadata": {
    "collapsed": false
   },
   "outputs": [
    {
     "data": {
      "text/plain": [
       "108277"
      ]
     },
     "execution_count": 7,
     "metadata": {},
     "output_type": "execute_result"
    }
   ],
   "source": [
    "ar5.count()"
   ]
  },
  {
   "cell_type": "code",
   "execution_count": 60,
   "metadata": {
    "collapsed": false
   },
   "outputs": [
    {
     "name": "stdout",
     "output_type": "stream",
     "text": [
      "1697\n",
      "97\n",
      "['Do clouds heat or cool the planet as a whole', 'How do clouds alter the equator to pole heating gradient of the planet', ' Where do we go from here']\n",
      "[' Well-developed geomorphic surfaces formed on sedimentary deposits that range from middle Miocene to Pleistocene in age, but principally on late Miocene (', ' Contemporaneous deposits are generally much coarser than Miocene(']\n",
      "[' Our observations indicate the possibility that redheaded buntings might integrate the information received from photoperiod with environmental temperature (and other factors']\n",
      "['  Why does energy matter', '  How much energy conservation is optimal', '  What is the best set of policies for encouraging conservation of energy', '  What induces the development of more energy-efficient capital']\n",
      "[' Was 1992 a good breeding season']\n",
      "[' But how far can this be justified']\n",
      "[' Should atmospheric lifetime be used as an index of accept ability']\n",
      "[' Can conclusions about community dynamics based on small-scale studies be extrapolated to larger spatial and temporal scales']\n",
      "[' When an industrial area is constructed, resulting in a large-scale anthropogenic heat source, is it possible to detect the warming effect of the heat source']\n",
      "[' More specifically, what are their strategies when approaching environmental problems', ' Have strategies changed with a new generation of emerging problems, such as the global climate change issue']\n",
      "[' Does this set of conclusions provide the basis for management of the forest']\n",
      "[' As the clouds of global climate change and the desire to rely less on Mid-East crude builds, how do manufacturers and refiners reconcile the needs of consumer acceptance and governmental regulation', ' How can policies and practices be united so that everyone involved works to the common goal of personal mobility', ' As industry continues to react to the latest round of air pollution regulations, where are we headed as far as new CAFE limits and the potential for additional longer term controls related to the greenhouse effect']\n",
      "[' 1  Which countries bear responsibility for causing the problem', ' What quantities and mix of greenhouse gases should each country be allowed to emit', ' Which countries have the resources to do something about the problem', ' Where are the best opportunities for undertaking projects to respond to the problem']\n",
      "[' The other is activist, but will it work']\n",
      "['Would it be better now to act decisively and globally to cut down greenhouse gas emissions or to wait for a reduction in scientific uncertainties']\n",
      "['  how reliable are the projections']\n",
      "['  How will react vegetation upon the supposing rise of climate temperature in the nearest future']\n",
      "['  The true motive (', ' competition, ']\n",
      "[' What is the probability that this record will be surpassed in the next few years']\n",
      "[' Can energy production be based essentially on fossil fuels or are nuclear power and renewable energy sources the only energy alternatives in the future ']\n",
      "[\" How can we know who is right about global warming, if the only things we have to work with are the scientists' competing scenarios, the truth-value of which has yet to be established\"]\n",
      "[' The question now seems to be not whether OTEC will reach large-scale commercialization, but when and by whom']\n",
      "[' Has not Acanthaster taught coral reef science a lesson']\n",
      "['Global warming is occurring, the only question is what will be the magnitude of the temperature change and the temporal and spatial distribution']\n",
      "[\"With the need for such thinking and action so clear, and the stakes so very high, why is it that global perspectives are not better integrated into today's educational system\"]\n",
      "[' Which Fuel for the Future']\n",
      "[' In order to better understand the greenhouse problem, this paper discusses the quantity of carbon dioxide produced; where does it go and what impact does it have']\n",
      "[' ']\n",
      "['What does the future hold for our world', '  Can the industralized nations sustain their standards of living', '  Will overpopulation prevent the developing countries from ever achieving those standards', '  Will the greenhouse effect provide a harsh answer to both questions']\n",
      "[\"A seminar on 'Urban congestion and pollution-is road pricing the answer\"]\n",
      "[' Would you describe the goals of the program and your plans to achieve them']\n",
      "[' Are these increased greenhouse gas levels sufficient to alter the natural patterns of climate change and variability', ' Can we detect the human-induced signal from that of nature', ' Does the observed climate record adequately reflect the expected changes', ' If the predicted change occurs, how might it affect the world food and forestry production systems', ' What is the relationship between the patterns and trends in climatic and yield data and those that might be expected given historic greenhouse gas levels']\n",
      "[' CO2 greenhouse or SO2 energy balance effect']\n",
      "[\" Are some ''exotic species'' actually examples of newly arrived colonizers, representing dynamic biotic responses to climate change and/or anthropogenic habitat modification\"]\n",
      "[' Temperature feedback on plant growth is the most important feedback process at the global scale, while CO']\n",
      "['Another point of interest is, what is the role of Central European silviculture in this giant tapestry of world forestry']\n",
      "[' That is, should the South permit investments from the North']\n",
      "['Does economic prosperity enhance the quality of human life']\n",
      "[' Can we replace unacceptable hormones and other drugs that may leave residues']\n",
      "[' how do ecosystems respond dynamically to climate variations']\n",
      "['The record in subbasins of the Las Vegas Valley system is dominated by late Wisconsin-age sediments, although pond sediments and alluvium belonging to at least one older (pre-Wisconsin']\n",
      "[' Is producer flexibility linked with sector of activity, capital vintage, or rates of new capital formation', ' When adjustments in energy use occur, are they accomplished through changes in factor proportions for individual producers, changes in the output shares of producers within an industry, or changes in the relative production levels of different manufacturing industries']\n",
      "[' 70 000 yr BP']\n",
      "[' How likely is it, however, to observe an identified seasonal pattern each individual year']\n",
      "['What is known about the implications of climate change for world food security']\n",
      "[\" Can a 'standard' GCM 'cope' with sudden switches in continental characteristics\", \"' and Does the climate 'care' about the changing underlying vegetation\"]\n",
      "[' 10(4) yr (those of Quaternary ice ages), 10(2) yr (the Holocene) and IO']\n",
      "[' What is our current state of knowledge regarding this phenomenon', ' What are the possible options for preventing or slowing its advance, or for living with its consequences', ' What obstructs our taking actions to deal with this issue']\n",
      "[' Will the amount of C in this pool increase or decrease with global warming']\n",
      "['Have the ice ages secularly altered the obliquity (axial tilt) of the Earth over geologic time']\n",
      "['To understand the mechanisms responsible for seasonal fluctuations in growth and N-2 fixation in intertidal microbial mat communties, we quantified seasonal changes in mat community composition, related these changes to diel and seasonal N-2 fixation rates, and evaluated community responses (growth, N(']\n",
      "[' how will soil characteristics have changed by the time of CO2 doubling']\n",
      "[' But do we discern the most important problems']\n",
      "[\"Data on fossil dicotyledonous wood were assembled in order to 1) test the Baileyan model for trends of specialisation in dicotyledonous wood anatomy by addressing the question - were 'primitive' wood anatomical features (as defined by the Baileyan model) more common in the geologic past than at present\"]\n",
      "['  This change occurs in the Oxfordian in the south, to ']\n",
      "['It appears essential for the success of international climate protection negotiations to separate the assignment of responsibility for climate protection (who pays for it', ') from the opportunities to reduce or prevent emissions (who does it']\n",
      "['What controlled these changes in polar climates and the East Antarctic ice sheet']\n",
      "[' Increased atmospheric CO2 levels (5-10 x present values']\n",
      "[' In addition it is concluded that there remain widespread remnants of a deep-weathered regolith which developed in pre-Late Mesozoic (Early Cretaceous or Jurassic']\n",
      "[' This last result suggests that some other factor (CO2']\n",
      "['The more positive deltaO-18 values of the Osagean calcite components probably indicate warm and arid conditions during short-term [10(4)(']\n",
      "[' the most important of which is how will the water balance change on a regional scale', ' In upland areas, where rainfall is the main source of water, the key question is will erosion increase and if so, how fast']\n",
      "[' Perhaps it is possible to use our knowledge of such past changes to understand what might happen to the high latitude ecosystems once the future greenhouse warming gets under way']\n",
      "['Do developmental constraints in ant colonies limit gas exchange strategies to those displayed by female alates (presumptive queens)']\n",
      "[' The most dramatic exception to this correlation involves the Late Ordovician (440 Ma) glaciation, which occurred at a time when CO2 levels may have been much greater than present (14-16X']\n",
      "[' fisheries, pollution, eutrophication, climatic changes, or a combination of causes', ' And what is the value of data on the diversity and production of benthic animals, if the research area has been raked by beamtrawl gear an unknown amount of times before sampling']\n",
      "['  What is the effect of this rate feedback on the conclusions of emission-cost trade-off studies', '  In particular, what reductions in emissions and generation costs could result from those rate increases', '  How might those rate increases affect consumer fuel choices, and how important could the environmental consequences of those end-user fuel-mix changes be']\n",
      "['The Karoo (here mainly Permian) beds and Jurassic to Tertiary (', ' These variations are tectonically and climatically controlled by combinations of fault activity (half graben), equatorial plate movements, and climatic changes during the Permian to Jurassic/Tertiary (']\n",
      "[' The presence of glacial diamictites and Ca, Na, Sr, and CIW paleoweathering indices suggest that climates changed from relatively cold during deposition of lower Libby Creek sediments to mild and finally to humid (hot']\n",
      "[' Erth Beds of Cornwall has revealed the presence of dinoflagellates, acritarchs and prasinophytes, scolecodonts, microforaminiferal linings, freshwater', ' In contrast, dinoflagellates-dominated by gymnodinialean', ' Halodinium scopaeum, and three species of dinoflagellate, Algidasphaeridium']\n",
      "[' Nor are they readily explainable on reconstructions commonly accepted such as Pangaea formed in the ']\n",
      "[' It is difficult to know how severe the effects of climate change will be (and where']\n",
      "[')']\n",
      "[' Is hydrology actually included in them']\n",
      "['Could users of climate information for impact assessment be overlooking an important source of information in climate indicators']\n",
      "[\" If, in the future, we are to answer the question ''Are extreme weather events becoming more frequent\"]\n",
      "[' (1) How do historical/developmental differences among nations affect global warming', ' (2) How does the prior history of one nation affect the subsequent history of another with respect to global warming', ' And (3), what are the consequences of the separation in time (and space) of the capacity to exacerbate versus mitigate global warming', ' What is the relationship between differences in national histories, the problem of global warming, and the development of a global system capable of addressing it']\n",
      "[' ']\n",
      "[' what do we need to know about dispersal and establishment to make improved projections of vegetation dynamics under climate change using these models']\n",
      "['  (1) Can growth trends be explained solely in terms of climatic variation', '  (2) Are recent growth trends unusual with respect to long-term growth records']\n",
      "[' However, further experimental work is required to establish the validity of these oxygen values under appropriate conditions and also to sharpen the certainty by which we can discriminate between fusain produced by pyrolysis, and inert wood degradation products produced by other (']\n",
      "[' Except for a drier (and cooler']\n",
      "[' Will understanding ever lead to better management models']\n",
      "['  how to confront these environmental problems and simultaneously address a number of more pressing developmental imperatives']\n",
      "[' How will local governments and citizens respond', ' What are the obstacles to local government and public cognition of, and response to, sea-level rise']\n",
      "[\"By how much does the Sun's radiation vary\"]\n",
      "[' what is the nature of the problem, what measurements should be made to determine its extent and cause, and what modification of the cause is necessary to reduce the severity of the problem']\n",
      "[' agriculture do to adapt for possible climate change and what can it do to reduce greenhouse gas emissions']\n",
      "[' We presume that arid climate and nutrients brought by river runoff and shelf edge currents favoured the growth of algal bioherms dominated by Halimeda between 13,700 (']\n",
      "[' Northeast']\n",
      "[' These phenomena may explain one way in which potential hydrocarbon source-rocks can form under a (poorly ']\n",
      "[' What of the future']\n",
      "['Global what']\n",
      "['  The question is whether sea level is actually rising, and if so, at what rate']\n",
      "[' Changes in North Atlantic surface temperatures have been found']\n",
      "[' What has to be done', ' By whom does it have to be done', ' When does it have to be done', ' How can it be done', ' How many people and how much fossil fuel use can our planet stand']\n",
      "[\" (1) do plants acclimate to a change in temperature and does acclimation depend on the plants' origin; and (2) have alpine plants adapted to low temperatures by respiring faster than lowland plants at any given temperature\"]\n"
     ]
    }
   ],
   "source": [
    "\n",
    "punct = '(\\?)|(\\.)|(\\!)|(\\:)'\n",
    "ars = [ar1,ar2,ar3,ar4,ar5]\n",
    "arqs = []\n",
    "for ar in ars:\n",
    "    questions = []\n",
    "    print(ar.count())\n",
    "    qs = ar.filter(content__contains=\"?\")\n",
    "    print(qs.count())\n",
    "    for q in qs:\n",
    "        sentences = []\n",
    "        x = re.split(punct,q.content)\n",
    "        for y in x:\n",
    "            if y is not None:\n",
    "                if re.match(punct,y):\n",
    "                    sentences.append({'t':t,'p':y})\n",
    "                    t = \"\"\n",
    "                else:\n",
    "                    t += y\n",
    "        z = [x['t'] for x in sentences if x['p']==\"?\"]\n",
    "        \n",
    "    #print([x for x in re.split('(?:\\?)',q.content)])"
   ]
  },
  {
   "cell_type": "code",
   "execution_count": 54,
   "metadata": {
    "collapsed": false
   },
   "outputs": [],
   "source": [
    "\n",
    "sentences = []\n",
    "t = \"\"\n",
    "for y in x:\n",
    "    if y is not None:\n",
    "        if re.match(punct,y):\n",
    "            sentences.append({'t':t,'p':y})\n",
    "            t = \"\"\n",
    "        else:\n",
    "            t += y"
   ]
  },
  {
   "cell_type": "code",
   "execution_count": 55,
   "metadata": {
    "collapsed": false
   },
   "outputs": [
    {
     "name": "stdout",
     "output_type": "stream",
     "text": [
      "[{'p': '?', 't': \"Because most of the world's ice occurs in Antarctica, what might be the possible effects of global greenhouse warming on its ice sheets\"}, {'p': '.', 't': '  In contrast to most mountain glaciers and Greenland, a warming trend is likely to cause an increase in snowfall on Antarctica, which would partially or totally balance the sea-level rise resulting from the melting of ice in the Northern Hemisphere'}, {'p': '.', 't': '  However, the possibility of dynamic instability in ice sheets exists, particularly for marine ice sheets'}, {'p': '.', 't': '  If this is the case, a marine ice sheet could collapse in one century or in a few centuries and cause sea level to rise rapidly'}, {'p': '.', 't': 'Studies in West Antarctica show that some of its ice streams move very rapidly, apparently because of significant basal lubrication'}, {'p': '.', 't': '  The high ice-stream velocities result in local thinning of ice that might expand and bring about the collapse of the ice sheet'}, {'p': '.', 't': '  Another possibility is that a global greenhouse effect could warm the ocean waters circulating beneath the ice shelves and melt the ice at its base, even without melting the top surface of the ice'}, {'p': '.', 't': '  Again, this could lead to the catastrophic collapse of the West Antarctic marine ice sheet and possibly parts of the East Antarctic and Greenland ice sheets as well'}]\n"
     ]
    }
   ],
   "source": [
    "print(sentences)"
   ]
  },
  {
   "cell_type": "code",
   "execution_count": null,
   "metadata": {
    "collapsed": true
   },
   "outputs": [],
   "source": []
  }
 ],
 "metadata": {
  "kernelspec": {
   "display_name": "Python 3",
   "language": "python",
   "name": "python3"
  },
  "language_info": {
   "codemirror_mode": {
    "name": "ipython",
    "version": 3
   },
   "file_extension": ".py",
   "mimetype": "text/x-python",
   "name": "python",
   "nbconvert_exporter": "python",
   "pygments_lexer": "ipython3",
   "version": "3.4.3"
  }
 },
 "nbformat": 4,
 "nbformat_minor": 2
}
