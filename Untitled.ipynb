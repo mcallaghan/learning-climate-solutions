{
 "cells": [
  {
   "cell_type": "code",
   "execution_count": 1,
   "metadata": {
    "collapsed": true,
    "deletable": true,
    "editable": true
   },
   "outputs": [],
   "source": [
    "import os, sys, time, resource, re, gc, shutil\n",
    "from multiprocess import Pool\n",
    "from functools import partial\n",
    "from tabulate import tabulate\n",
    "from urllib.parse import urlparse, parse_qsl\n",
    "\n",
    "import matplotlib.pyplot as plt\n",
    "import numpy as np\n",
    "import pandas as pd\n",
    "from mongoengine.queryset.visitor import Q\n",
    "import django\n",
    "from django.db.models import Count\n",
    "sys.path.append('/home/galm/software/tmv/BasicBrowser/')\n",
    "os.environ.setdefault(\"DJANGO_SETTINGS_MODULE\", \"BasicBrowser.settings\")\n",
    "django.setup()\n",
    "\n",
    "from scoping.models import *\n",
    "from tmv_app.models import *"
   ]
  },
  {
   "cell_type": "code",
   "execution_count": 2,
   "metadata": {
    "collapsed": false,
    "deletable": true,
    "editable": true
   },
   "outputs": [
    {
     "name": "stdout",
     "output_type": "stream",
     "text": [
      "272102\n"
     ]
    }
   ],
   "source": [
    "docs = Doc.objects.filter(query=365).filter(PY__gt=1984,PY__lt=2017)\n",
    "print(docs.count())\n",
    "srre = \"\\'.*(systematic review)|(meta.{0,1}anal)|(narrative review)|(evidence synthesis)|(meta.{0,1}ethnography)|(model\\\\w* inter.{0,1}comparison).*\\'\",\n",
    "\n"
   ]
  },
  {
   "cell_type": "code",
   "execution_count": 3,
   "metadata": {
    "collapsed": false
   },
   "outputs": [],
   "source": [
    "from django.db.models import CharField, Case, Value, When\n",
    "\n",
    "docs = docs.annotate(\n",
    "    review=Case(\n",
    "        When(title__iregex=srre, then=Value(1)),\n",
    "        When(content__iregex=srre, then=Value(1)),\n",
    "        When(wosarticle__kwp__iregex=srre, then=Value(1)),\n",
    "        When(wosarticle__de__iregex=srre, then=Value(1)),\n",
    "        default=Value(0),\n",
    "        output_field=models.IntegerField(),\n",
    "    )\n",
    ")"
   ]
  },
  {
   "cell_type": "code",
   "execution_count": 4,
   "metadata": {
    "collapsed": false
   },
   "outputs": [
    {
     "name": "stdout",
     "output_type": "stream",
     "text": [
      "<QuerySet [{'n': 28381, 'review': 0, 'wc__oecd': 'Agricultural Sciences'}, {'n': 290, 'review': 1, 'wc__oecd': 'Agricultural Sciences'}, {'n': 47112, 'review': 0, 'wc__oecd': 'Engineering and Technology'}, {'n': 90, 'review': 1, 'wc__oecd': 'Engineering and Technology'}, {'n': 851, 'review': 0, 'wc__oecd': 'Humanities'}, {'n': 3, 'review': 1, 'wc__oecd': 'Humanities'}, {'n': 5318, 'review': 0, 'wc__oecd': 'Medical and Health Sciences'}, {'n': 71, 'review': 1, 'wc__oecd': 'Medical and Health Sciences'}, {'n': 179600, 'review': 0, 'wc__oecd': 'Natural Sciences'}, {'n': 1294, 'review': 1, 'wc__oecd': 'Natural Sciences'}, {'n': 20220, 'review': 0, 'wc__oecd': 'Social Sciences'}, {'n': 113, 'review': 1, 'wc__oecd': 'Social Sciences'}, {'n': 241, 'review': 0, 'wc__oecd': None}]>\n"
     ]
    }
   ],
   "source": [
    "summed = docs.values('wc__oecd','review').annotate(\n",
    "    n = Count('UT')\n",
    ")\n",
    "print(summed.order_by('wc__oecd'))"
   ]
  },
  {
   "cell_type": "code",
   "execution_count": 5,
   "metadata": {
    "collapsed": false
   },
   "outputs": [],
   "source": [
    "df = pd.DataFrame.from_dict(list(summed))"
   ]
  },
  {
   "cell_type": "code",
   "execution_count": 6,
   "metadata": {
    "collapsed": false
   },
   "outputs": [],
   "source": [
    "df = df.merge(df[['wc__oecd','n']].groupby('wc__oecd', as_index=False).sum().rename(index=str, columns={\"n\": \"total\"}))\n"
   ]
  },
  {
   "cell_type": "code",
   "execution_count": 7,
   "metadata": {
    "collapsed": false
   },
   "outputs": [
    {
     "name": "stdout",
     "output_type": "stream",
     "text": [
      "         n  review                     wc__oecd   total       pcnt\n",
      "0    28381       0        Agricultural Sciences   28671  98.988525\n",
      "1      290       1        Agricultural Sciences   28671   1.011475\n",
      "2    47112       0   Engineering and Technology   47202  99.809330\n",
      "3       90       1   Engineering and Technology   47202   0.190670\n",
      "4      851       0                   Humanities     854  99.648712\n",
      "5        3       1                   Humanities     854   0.351288\n",
      "6     5318       0  Medical and Health Sciences    5389  98.682501\n",
      "7       71       1  Medical and Health Sciences    5389   1.317499\n",
      "8   179600       0             Natural Sciences  180894  99.284664\n",
      "9     1294       1             Natural Sciences  180894   0.715336\n",
      "10   20220       0              Social Sciences   20333  99.444253\n",
      "11     113       1              Social Sciences   20333   0.555747\n"
     ]
    }
   ],
   "source": [
    "df['pcnt'] = df.n / df.total*100\n",
    "print(df)"
   ]
  },
  {
   "cell_type": "code",
   "execution_count": 8,
   "metadata": {
    "collapsed": true
   },
   "outputs": [],
   "source": [
    "df.to_csv('tables/review_shares_discipline.csv',index=False)\n"
   ]
  },
  {
   "cell_type": "code",
   "execution_count": 9,
   "metadata": {
    "collapsed": false
   },
   "outputs": [
    {
     "name": "stdout",
     "output_type": "stream",
     "text": [
      "        n                     wc__oecd   total   pcnt\n",
      "0   47202   Engineering and Technology   47202  100.0\n",
      "1    5389  Medical and Health Sciences    5389  100.0\n",
      "2   28671        Agricultural Sciences   28671  100.0\n",
      "3  180894             Natural Sciences  180894  100.0\n",
      "4   20333              Social Sciences   20333  100.0\n",
      "5     854                   Humanities     854  100.0\n",
      "283343\n"
     ]
    }
   ],
   "source": [
    "summed = docs.values('wc__oecd').annotate(\n",
    "    n = Count('UT')\n",
    ")\n",
    "df = pd.DataFrame.from_dict(list(summed))\n",
    "df = df.merge(df[['wc__oecd','n']].groupby('wc__oecd', as_index=False).sum().rename(index=str, columns={\"n\": \"total\"}))\n",
    "df['pcnt'] = df.n / df.total*100\n",
    "print(df)\n",
    "print(df.n.sum())"
   ]
  },
  {
   "cell_type": "code",
   "execution_count": null,
   "metadata": {
    "collapsed": true
   },
   "outputs": [],
   "source": []
  },
  {
   "cell_type": "code",
   "execution_count": null,
   "metadata": {
    "collapsed": true
   },
   "outputs": [],
   "source": []
  }
 ],
 "metadata": {
  "kernelspec": {
   "display_name": "Python 3",
   "language": "python",
   "name": "python3"
  },
  "language_info": {
   "codemirror_mode": {
    "name": "ipython",
    "version": 3
   },
   "file_extension": ".py",
   "mimetype": "text/x-python",
   "name": "python",
   "nbconvert_exporter": "python",
   "pygments_lexer": "ipython3",
   "version": "3.4.3"
  }
 },
 "nbformat": 4,
 "nbformat_minor": 2
}
