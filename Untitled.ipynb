{
 "cells": [
  {
   "cell_type": "code",
   "execution_count": 1,
   "metadata": {
    "collapsed": true,
    "deletable": true,
    "editable": true
   },
   "outputs": [],
   "source": [
    "import os, sys, time, resource, re, gc, shutil\n",
    "from multiprocess import Pool\n",
    "from functools import partial\n",
    "from tabulate import tabulate\n",
    "from urllib.parse import urlparse, parse_qsl\n",
    "\n",
    "import matplotlib.pyplot as plt\n",
    "import numpy as np\n",
    "import pandas as pd\n",
    "from mongoengine.queryset.visitor import Q\n",
    "import django\n",
    "from django.db.models import Count\n",
    "sys.path.append('/home/galm/software/tmv/BasicBrowser/')\n",
    "os.environ.setdefault(\"DJANGO_SETTINGS_MODULE\", \"BasicBrowser.settings\")\n",
    "django.setup()\n",
    "\n",
    "from scoping.models import *\n",
    "from tmv_app.models import *"
   ]
  },
  {
   "cell_type": "code",
   "execution_count": 2,
   "metadata": {
    "collapsed": false,
    "deletable": true,
    "editable": true
   },
   "outputs": [
    {
     "name": "stdout",
     "output_type": "stream",
     "text": [
      "272102\n"
     ]
    }
   ],
   "source": [
    "docs = Doc.objects.filter(query=365).filter(PY__gt=1984,PY__lt=2017)\n",
    "print(docs.count())\n",
    "srre = \"\\'.*(systematic review)|(meta.{0,1}anal)|(narrative review)|(evidence synthesis)|(meta.{0,1}ethnography)|(model\\\\w* inter.{0,1}comparison).*\\'\",\n",
    "\n"
   ]
  },
  {
   "cell_type": "code",
   "execution_count": 3,
   "metadata": {
    "collapsed": false
   },
   "outputs": [],
   "source": [
    "from django.db.models import CharField, Case, Value, When\n",
    "\n",
    "docs = docs.annotate(\n",
    "    review=Case(\n",
    "        When(title__iregex=srre, then=Value(1)),\n",
    "        When(content__iregex=srre, then=Value(1)),\n",
    "        When(wosarticle__kwp__iregex=srre, then=Value(1)),\n",
    "        When(wosarticle__de__iregex=srre, then=Value(1)),\n",
    "        default=Value(0),\n",
    "        output_field=models.IntegerField(),\n",
    "    )\n",
    ")"
   ]
  },
  {
   "cell_type": "code",
   "execution_count": 4,
   "metadata": {
    "collapsed": false
   },
   "outputs": [
    {
     "name": "stdout",
     "output_type": "stream",
     "text": [
      "<QuerySet [{'wc__oecd': 'Agricultural Sciences', 'review': 0, 'n': 35206}, {'wc__oecd': 'Agricultural Sciences', 'review': 1, 'n': 357}, {'wc__oecd': 'Engineering and Technology', 'review': 0, 'n': 81036}, {'wc__oecd': 'Engineering and Technology', 'review': 1, 'n': 149}, {'wc__oecd': 'Humanities', 'review': 0, 'n': 1782}, {'wc__oecd': 'Humanities', 'review': 1, 'n': 5}, {'wc__oecd': 'Medical and Health Sciences', 'review': 0, 'n': 9443}, {'wc__oecd': 'Medical and Health Sciences', 'review': 1, 'n': 127}, {'wc__oecd': 'Natural Sciences', 'review': 0, 'n': 299039}, {'wc__oecd': 'Natural Sciences', 'review': 1, 'n': 2207}, {'wc__oecd': 'Social Sciences', 'review': 0, 'n': 42053}, {'wc__oecd': 'Social Sciences', 'review': 1, 'n': 270}, {'wc__oecd': None, 'review': 0, 'n': 241}]>\n"
     ]
    }
   ],
   "source": [
    "summed = docs.values('wc__oecd','review').annotate(\n",
    "    n = Count('UT')\n",
    ")\n",
    "print(summed.order_by('wc__oecd'))"
   ]
  },
  {
   "cell_type": "code",
   "execution_count": 5,
   "metadata": {
    "collapsed": false
   },
   "outputs": [],
   "source": [
    "df = pd.DataFrame.from_dict(list(summed))"
   ]
  },
  {
   "cell_type": "code",
   "execution_count": 6,
   "metadata": {
    "collapsed": false
   },
   "outputs": [],
   "source": [
    "df = df.merge(df[['wc__oecd','n']].groupby('wc__oecd', as_index=False).sum().rename(index=str, columns={\"n\": \"total\"}))\n"
   ]
  },
  {
   "cell_type": "code",
   "execution_count": 7,
   "metadata": {
    "collapsed": false
   },
   "outputs": [
    {
     "name": "stdout",
     "output_type": "stream",
     "text": [
      "         n  review                     wc__oecd   total       pcnt\n",
      "0    35206       0        Agricultural Sciences   35563  98.996148\n",
      "1      357       1        Agricultural Sciences   35563   1.003852\n",
      "2    81036       0   Engineering and Technology   81185  99.816469\n",
      "3      149       1   Engineering and Technology   81185   0.183531\n",
      "4     1782       0                   Humanities    1787  99.720201\n",
      "5        5       1                   Humanities    1787   0.279799\n",
      "6     9443       0  Medical and Health Sciences    9570  98.672936\n",
      "7      127       1  Medical and Health Sciences    9570   1.327064\n",
      "8   299039       0             Natural Sciences  301246  99.267376\n",
      "9     2207       1             Natural Sciences  301246   0.732624\n",
      "10   42053       0              Social Sciences   42323  99.362049\n",
      "11     270       1              Social Sciences   42323   0.637951\n"
     ]
    }
   ],
   "source": [
    "df['pcnt'] = df.n / df.total*100\n",
    "print(df)"
   ]
  },
  {
   "cell_type": "code",
   "execution_count": 9,
   "metadata": {
    "collapsed": true
   },
   "outputs": [],
   "source": [
    "df.to_csv('tables/review_shares_discipline.csv',index=False)\n"
   ]
  },
  {
   "cell_type": "code",
   "execution_count": 18,
   "metadata": {
    "collapsed": false
   },
   "outputs": [
    {
     "name": "stdout",
     "output_type": "stream",
     "text": [
      "       n                     wc__oecd  total   pcnt\n",
      "0  10176   Engineering and Technology  10176  100.0\n",
      "1   2422  Medical and Health Sciences   2422  100.0\n",
      "2   8436        Agricultural Sciences   8436  100.0\n",
      "3  45204             Natural Sciences  45204  100.0\n",
      "4   6548              Social Sciences   6548  100.0\n",
      "5    223                   Humanities    223  100.0\n",
      "73009\n"
     ]
    }
   ],
   "source": [
    "summed = docs.values('wc__oecd').annotate(\n",
    "    n = Count('UT')\n",
    ")\n",
    "df = pd.DataFrame.from_dict(list(summed))\n",
    "df = df.merge(df[['wc__oecd','n']].groupby('wc__oecd', as_index=False).sum().rename(index=str, columns={\"n\": \"total\"}))\n",
    "df['pcnt'] = df.n / df.total*100\n",
    "print(df)\n",
    "print(df.n.sum())"
   ]
  },
  {
   "cell_type": "code",
   "execution_count": null,
   "metadata": {
    "collapsed": true
   },
   "outputs": [],
   "source": []
  },
  {
   "cell_type": "code",
   "execution_count": null,
   "metadata": {
    "collapsed": true
   },
   "outputs": [],
   "source": []
  }
 ],
 "metadata": {
  "kernelspec": {
   "display_name": "Python 3",
   "language": "python",
   "name": "python3"
  },
  "language_info": {
   "codemirror_mode": {
    "name": "ipython",
    "version": 3
   },
   "file_extension": ".py",
   "mimetype": "text/x-python",
   "name": "python",
   "nbconvert_exporter": "python",
   "pygments_lexer": "ipython3",
   "version": "3.4.3"
  }
 },
 "nbformat": 4,
 "nbformat_minor": 2
}
