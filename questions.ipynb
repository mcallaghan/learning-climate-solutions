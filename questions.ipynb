{
 "cells": [
  {
   "cell_type": "code",
   "execution_count": 3,
   "metadata": {
    "collapsed": true,
    "deletable": true,
    "editable": true
   },
   "outputs": [],
   "source": [
    "import django, os, sys, time, resource, re, gc, shutil, string, nltk\n",
    "from django.utils import timezone\n",
    "from nltk import ngrams\n",
    "import numpy as np\n",
    "import subprocess\n",
    "\n",
    "sys.path.append('/home/galm/software/tmv/BasicBrowser/')\n",
    "\n",
    "os.environ.setdefault(\"DJANGO_SETTINGS_MODULE\", \"BasicBrowser.settings\")\n",
    "django.setup()\n",
    "\n",
    "from scoping.models import *"
   ]
  },
  {
   "cell_type": "code",
   "execution_count": 4,
   "metadata": {
    "collapsed": false,
    "deletable": true,
    "editable": true
   },
   "outputs": [],
   "source": [
    "ar1 = Doc.objects.filter(query=365,PY__gt=1985,PY__lte=1990)\n",
    "ar2 = Doc.objects.filter(query=365,PY__gt=1990,PY__lte=1995)\n",
    "ar3 = Doc.objects.filter(query=365,PY__gt=1995,PY__lte=2000)\n",
    "ar4 = Doc.objects.filter(query=365,PY__gt=2000,PY__lte=2007)\n",
    "ar5 = Doc.objects.filter(query=365,PY__gt=2007,PY__lte=2013)"
   ]
  },
  {
   "cell_type": "code",
   "execution_count": 5,
   "metadata": {
    "collapsed": false,
    "deletable": true,
    "editable": true
   },
   "outputs": [
    {
     "data": {
      "text/plain": [
       "108277"
      ]
     },
     "execution_count": 5,
     "metadata": {},
     "output_type": "execute_result"
    }
   ],
   "source": [
    "ar5.count()"
   ]
  },
  {
   "cell_type": "code",
   "execution_count": 7,
   "metadata": {
    "collapsed": false,
    "deletable": true,
    "editable": true
   },
   "outputs": [
    {
     "name": "stdout",
     "output_type": "stream",
     "text": [
      "1697\n",
      "3\n",
      "9274\n",
      "97\n",
      "16395\n",
      "217\n",
      "44000\n",
      "559\n",
      "108277\n",
      "1716\n"
     ]
    }
   ],
   "source": [
    "\n",
    "punct = '(\\?)|(\\.)|(\\!)|(\\:)'\n",
    "t=\"\"\n",
    "ars = [ar1,ar2,ar3,ar4,ar5]\n",
    "arqs = []\n",
    "for ar in ars:\n",
    "    questions = []\n",
    "    print(ar.count())\n",
    "    qs = ar.filter(content__contains=\"?\")\n",
    "    print(qs.count())\n",
    "    for q in qs:\n",
    "        sentences = []\n",
    "        x = re.split(punct,q.content)\n",
    "        for y in x:\n",
    "            if y is not None:\n",
    "                if re.match(punct,y):\n",
    "                    sentences.append({'t':t,'p':y})\n",
    "                    t = \"\"\n",
    "                else:\n",
    "                    t += y\n",
    "        arqs.append([x['t'] for x in sentences if x['p']==\"?\"])\n",
    "    questions.append({'ar':ar,'qs':arqs})\n",
    "    #print([x for x in re.split('(?:\\?)',q.content)])"
   ]
  },
  {
   "cell_type": "code",
   "execution_count": 12,
   "metadata": {
    "collapsed": false,
    "deletable": true,
    "editable": true
   },
   "outputs": [],
   "source": [
    "tqs = []\n",
    "for q in questions:\n",
    "    for x in q['qs']:\n",
    "        for s in x:\n",
    "            tqs.append(s)"
   ]
  },
  {
   "cell_type": "code",
   "execution_count": 13,
   "metadata": {
    "collapsed": false,
    "deletable": true,
    "editable": true
   },
   "outputs": [
    {
     "data": {
      "text/plain": [
       "'  Is it better to kill the tsetse than to sterilize it'"
      ]
     },
     "execution_count": 13,
     "metadata": {},
     "output_type": "execute_result"
    }
   ],
   "source": [
    "tqs[0]"
   ]
  },
  {
   "cell_type": "code",
   "execution_count": 14,
   "metadata": {
    "collapsed": false,
    "deletable": true,
    "editable": true
   },
   "outputs": [
    {
     "data": {
      "text/plain": [
       "4971"
      ]
     },
     "execution_count": 14,
     "metadata": {},
     "output_type": "execute_result"
    }
   ],
   "source": [
    "len(tqs)"
   ]
  },
  {
   "cell_type": "code",
   "execution_count": 15,
   "metadata": {
    "collapsed": false
   },
   "outputs": [
    {
     "data": {
      "text/plain": [
       "4971"
      ]
     },
     "execution_count": 15,
     "metadata": {},
     "output_type": "execute_result"
    }
   ],
   "source": [
    "tqset = set(tqs)\n",
    "len(tqs)"
   ]
  },
  {
   "cell_type": "code",
   "execution_count": null,
   "metadata": {
    "collapsed": true
   },
   "outputs": [],
   "source": []
  }
 ],
 "metadata": {
  "kernelspec": {
   "display_name": "Python 3",
   "language": "python",
   "name": "python3"
  },
  "language_info": {
   "codemirror_mode": {
    "name": "ipython",
    "version": 3
   },
   "file_extension": ".py",
   "mimetype": "text/x-python",
   "name": "python",
   "nbconvert_exporter": "python",
   "pygments_lexer": "ipython3",
   "version": "3.4.3"
  }
 },
 "nbformat": 4,
 "nbformat_minor": 2
}
